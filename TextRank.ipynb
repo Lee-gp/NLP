{
 "cells": [
  {
   "cell_type": "markdown",
   "metadata": {},
   "source": [
    "使用TextRank对新闻进行关键词提取，及文章摘要输出"
   ]
  },
  {
   "cell_type": "code",
   "execution_count": 1,
   "metadata": {},
   "outputs": [],
   "source": [
    "from textrank4zh import TextRank4Keyword,TextRank4Sentence\n",
    "import jieba"
   ]
  },
  {
   "cell_type": "code",
   "execution_count": 3,
   "metadata": {},
   "outputs": [],
   "source": [
    "#加载文本\n",
    "file = './news_高考.txt'\n",
    "with open(file,'r',encoding = 'utf-8',errors = 'ignore') as file:\n",
    "    text = ''\n",
    "    for line in file:\n",
    "        text += line    "
   ]
  },
  {
   "cell_type": "code",
   "execution_count": 4,
   "metadata": {},
   "outputs": [
    {
     "name": "stderr",
     "output_type": "stream",
     "text": [
      "Building prefix dict from the default dictionary ...\n",
      "Dumping model to file cache C:\\Users\\ADMINI~1\\AppData\\Local\\Temp\\jieba.cache\n",
      "Loading model cost 1.968 seconds.\n",
      "Prefix dict has been built successfully.\n"
     ]
    },
    {
     "name": "stdout",
     "output_type": "stream",
     "text": [
      "关键词：\n",
      "高考 0.06053057146274241\n",
      "考生 0.05051431641531027\n",
      "考试 0.018047445184013893\n",
      "安徽 0.01359531336682114\n",
      "家长 0.012686514052405845\n",
      "复读 0.012330855177987248\n",
      "往年 0.012125475206317054\n",
      "学习 0.011842887703503098\n",
      "分数线 0.01139660222034759\n",
      "学生 0.010809525753162165\n",
      "省份 0.009977358409499502\n",
      "公布 0.009816471530670653\n",
      "六安市 0.009414873793448134\n",
      "安徽省 0.009274539437748969\n",
      "人数 0.00881376398690151\n",
      "陪读 0.00845975735875408\n",
      "小镇 0.008329860624019142\n",
      "疫情 0.008158005267069252\n",
      "中学 0.008085810450861562\n",
      "应试 0.008061669756948536\n"
     ]
    }
   ],
   "source": [
    "# 输出关键词，设置文本大小写，窗口为3\n",
    "#在词典中添加特定词语\n",
    "jieba.add_word(\"毛坦厂中学\")\n",
    "jieba.add_word('毛坦厂镇')\n",
    "jieba.add_word('分数线')\n",
    "#使用jieba分词，精确模式\n",
    "seg_list = jieba.cut(text,cut_all=False)\n",
    "text_cut = ''.join(seg_list)\n",
    "# print(text_cut)\n",
    "#textrank建模，滑动窗口大小4\n",
    "tr4w = TextRank4Keyword(stop_words_file = './stopword.txt')\n",
    "tr4w.analyze(text = text_cut,lower = True,window =4)\n",
    "#提取关键词，最小词长2\n",
    "print('关键词：')\n",
    "for item in tr4w.get_keywords(20,word_min_len = 2):\n",
    "    print(item.word,item.weight)"
   ]
  },
  {
   "cell_type": "code",
   "execution_count": 7,
   "metadata": {},
   "outputs": [
    {
     "name": "stdout",
     "output_type": "stream",
     "text": [
      "文档摘要:\n",
      "16 0.05949819170468757 图为高考前，考生进入学校测量体温\n",
      "--------------------------------------------------------------------------------\n",
      "15 0.059132465325434 在高考前，为了保障高考的顺利进行，高考镇实行了史上最严的“封锁”，在疫情开始之初，通往毛坦厂镇的所有道路都被切断，4月初，安徽省境内高三年级开始复课之后，因为外来复读学生较多，毛坦厂镇曾经短暂对外地家长和考生开放了几天，随之又实行严格管控，一直到7月5日考生离开高考镇时才解封\n",
      "--------------------------------------------------------------------------------\n",
      "4 0.05910991103734451 7月23日，毛坦厂中学所在的安徽六安市毛坦厂镇官方发布喜报称，根据网络查询，六安市毛坦厂中学、金安高级中学、金安中学补习班2020年高考再创佳绩，再传捷报，安徽籍考生（不含外省考生）本科达线人数10176人，其中600分以上600分以上290人，理科最高分674分，文科最高分608分\n",
      "--------------------------------------------------------------------------------\n"
     ]
    }
   ],
   "source": [
    "#输出摘要\n",
    "tr4s = TextRank4Sentence()\n",
    "tr4s.analyze(text = text,lower = True,source = 'all_filters')\n",
    "print('文档摘要:')\n",
    "#重要性较高的3个句子\n",
    "for item in tr4s.get_key_sentences(num = 3):\n",
    "    #index表示重要句子在文本中的位置，weight表示权重\n",
    "    print(item.index,item.weight,item.sentence)\n",
    "    print(\"-\"*80)"
   ]
  }
 ],
 "metadata": {
  "kernelspec": {
   "display_name": "Python 3",
   "language": "python",
   "name": "python3"
  },
  "language_info": {
   "codemirror_mode": {
    "name": "ipython",
    "version": 3
   },
   "file_extension": ".py",
   "mimetype": "text/x-python",
   "name": "python",
   "nbconvert_exporter": "python",
   "pygments_lexer": "ipython3",
   "version": "3.7.3"
  }
 },
 "nbformat": 4,
 "nbformat_minor": 2
}
